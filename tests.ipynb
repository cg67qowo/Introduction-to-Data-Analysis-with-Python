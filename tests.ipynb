{
 "cells": [
  {
   "cell_type": "markdown",
   "metadata": {},
   "source": [
    "# Pandas: Python library for data analysis and manipulation\n",
    "## Pandas objects:\n",
    "### Series --> unidimensional array"
   ]
  },
  {
   "cell_type": "code",
   "execution_count": 5,
   "metadata": {},
   "outputs": [],
   "source": [
    "import pandas as pd"
   ]
  },
  {
   "cell_type": "code",
   "execution_count": null,
   "metadata": {},
   "outputs": [
    {
     "name": "stdout",
     "output_type": "stream",
     "text": [
      "2015    5.3\n",
      "2016    4.9\n",
      "2017    4.4\n",
      "2018    3.7\n",
      "2020    8.1\n",
      "dtype: float64\n"
     ]
    }
   ],
   "source": [
    "# Initialize series from a list\n",
    "unemployment = pd.Series (\n",
    "[5.3, 4.9, 4.4, 3.7, 8.1],\n",
    "index=[2015, 2016, 2017, 2018, 2020]\n",
    ")\n",
    "print(unemployment)"
   ]
  },
  {
   "cell_type": "code",
   "execution_count": null,
   "metadata": {},
   "outputs": [],
   "source": [
    "# Initialize series from a dict"
   ]
  }
 ],
 "metadata": {
  "kernelspec": {
   "display_name": "transf_env",
   "language": "python",
   "name": "python3"
  },
  "language_info": {
   "codemirror_mode": {
    "name": "ipython",
    "version": 3
   },
   "file_extension": ".py",
   "mimetype": "text/x-python",
   "name": "python",
   "nbconvert_exporter": "python",
   "pygments_lexer": "ipython3",
   "version": "3.12.9"
  }
 },
 "nbformat": 4,
 "nbformat_minor": 2
}
