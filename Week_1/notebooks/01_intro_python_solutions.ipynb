{
 "cells": [
  {
   "cell_type": "markdown",
   "metadata": {},
   "source": [
    "This notebook contains the solutions of the exercises of our first week.\n",
    "\n",
    "The second part of the exercises (for list, set, dict, and functions) are taken from [This Colab notebook by Rian Orsinger](https://colab.research.google.com/github/ryanorsinger/101-exercises/blob/main/101-exercises.ipynb#scrollTo=maRyeWrzNtTh). To complete them, check the [Python Docu](https://docs.python.org/3/tutorial/datastructures.html)."
   ]
  },
  {
   "cell_type": "markdown",
   "metadata": {},
   "source": [
    "### Exercise\n",
    "Write a Python function that takes a sentence and reverses each word individually, but keeps the word order the same."
   ]
  },
  {
   "cell_type": "code",
   "execution_count": 2,
   "metadata": {},
   "outputs": [
    {
     "name": "stdout",
     "output_type": "stream",
     "text": [
      "olleH dlroW\n",
      "nohtyP si nuf\n"
     ]
    }
   ],
   "source": [
    "def mirror_words(sentence: str) -> str:\n",
    "    # Split the sentence into words\n",
    "    words = sentence.split()\n",
    "    # Reverse each word individually\n",
    "    mirrored = [word[::-1] for word in words]\n",
    "    # Join the words back into a sentence\n",
    "    return ' '.join(mirrored)\n",
    "\n",
    "# Print results\n",
    "print(mirror_words(\"Hello World\")) \n",
    "print(mirror_words(\"Python is fun\")) \n"
   ]
  },
  {
   "cell_type": "markdown",
   "metadata": {},
   "source": [
    "### Exercise\n",
    "Ask the user to input a sentence and then:  \n",
    "1. Print sentence length \n",
    "2. Count the total number of words.  \n",
    "3. Count how many times the letter `'a'` (or `'A'`) appears.  \n",
    "4. Print the sentence with the first letter of each word capitalized.  \n",
    "5. Reverse the sentence.  \n"
   ]
  },
  {
   "cell_type": "code",
   "execution_count": null,
   "metadata": {},
   "outputs": [
    {
     "name": "stdout",
     "output_type": "stream",
     "text": [
      "23\n",
      "6\n",
      "2\n",
      "2\n",
      "This Is A Python Test A\n",
      "This Is A Python Test A\n",
      "this is a python test A\n"
     ]
    }
   ],
   "source": [
    "input_sentence=input(\"Enter your sentence: \")    \n",
    "# Sentence length\n",
    "print(len(input_sentence))\n",
    "# Total number of words\n",
    "# Split() takes as parameter the character to split by\n",
    "print(len(input_sentence.split()))\n",
    "# Count occurrences of A and a: two ways of doing it\n",
    "# Either you lowercase the whole text\n",
    "print(input_sentence.lower().count('a'))\n",
    "# Or you sum the two amounts\n",
    "print(input_sentence.count('a')+input_sentence.count('A'))\n",
    "# Print sentence with first letter of each word capitalized\n",
    "import string\n",
    "print(string.capwords(input_sentence))\n",
    "# you can also do it step by step!\n",
    "capitalized = \" \".join(word.capitalize() for word in input_sentence.split())\n",
    "print(capitalized)\n",
    "# Reverse the sentence\n",
    "print(input_sentence[::-1])"
   ]
  },
  {
   "cell_type": "markdown",
   "metadata": {},
   "source": [
    "### Exercise\n",
    "Initialize an integer, convert it to string, and merge the two strings."
   ]
  },
  {
   "cell_type": "code",
   "execution_count": 10,
   "metadata": {},
   "outputs": [
    {
     "name": "stdout",
     "output_type": "stream",
     "text": [
      "5hello\n",
      "5 hello\n"
     ]
    }
   ],
   "source": [
    "a = 5\n",
    "a = str(a)\n",
    "b = \"hello\"\n",
    "print(a+b)\n",
    "print(a+\" \"+b)"
   ]
  },
  {
   "cell_type": "markdown",
   "metadata": {},
   "source": [
    "### Exercise\n",
    "Initialize two integers, check if their division has a remainder of 0. If yes, return \"True\"."
   ]
  },
  {
   "cell_type": "code",
   "execution_count": null,
   "metadata": {},
   "outputs": [
    {
     "data": {
      "text/plain": [
       "True"
      ]
     },
     "execution_count": 12,
     "metadata": {},
     "output_type": "execute_result"
    }
   ],
   "source": [
    "def check_division(a, b):\n",
    "    if a%b == 0: # always == for if statements!\n",
    "        return(True)\n",
    "    else:\n",
    "        return(False)"
   ]
  },
  {
   "cell_type": "code",
   "execution_count": null,
   "metadata": {},
   "outputs": [],
   "source": [
    "check_division(10, 2)"
   ]
  },
  {
   "cell_type": "code",
   "execution_count": null,
   "metadata": {},
   "outputs": [],
   "source": [
    "check_division(5, 2)"
   ]
  },
  {
   "cell_type": "code",
   "execution_count": 13,
   "metadata": {},
   "outputs": [
    {
     "name": "stdout",
     "output_type": "stream",
     "text": [
      "Exercise 1 is correct\n"
     ]
    }
   ],
   "source": [
    "# Exercise 1\n",
    "# Given the following assigment of the list of fruits, add \"tomato\" to the end of the list. \n",
    "fruits = [\"mango\", \"banana\", \"guava\", \"kiwi\", \"strawberry\"]\n",
    " # Write your code here, then run the cell.\n",
    "fruits.append(\"tomato\")\n",
    "assert fruits == [\"mango\", \"banana\", \"guava\", \"kiwi\", \"strawberry\", \"tomato\"], \"Ensure the variable contains all the strings in the right order\"\n",
    "print(\"Exercise 1 is correct\")\n"
   ]
  },
  {
   "cell_type": "markdown",
   "metadata": {},
   "source": []
  },
  {
   "cell_type": "code",
   "execution_count": 14,
   "metadata": {},
   "outputs": [
    {
     "name": "stdout",
     "output_type": "stream",
     "text": [
      "Exercise 2 is correct\n"
     ]
    }
   ],
   "source": [
    "# Exercise 2\n",
    "# Given the following assignment of the vegetables list, add \"tomato\" to the end of the list.\n",
    "vegetables = [\"eggplant\", \"broccoli\", \"carrot\", \"cauliflower\", \"zucchini\"]\n",
    "vegetables.append(\"tomato\")\n",
    "assert vegetables == [\"eggplant\", \"broccoli\", \"carrot\", \"cauliflower\", \"zucchini\", \"tomato\"], \"Ensure the variable contains all the strings in the provided order\"\n",
    "print(\"Exercise 2 is correct\")"
   ]
  },
  {
   "cell_type": "code",
   "execution_count": null,
   "metadata": {},
   "outputs": [
    {
     "name": "stdout",
     "output_type": "stream",
     "text": [
      "Exercise 3 is correct.\n"
     ]
    }
   ],
   "source": [
    "# Exercise 3\n",
    "# Given the list of numbers defined below, reverse the list of numbers that you created above. \n",
    "numbers = [1, 2, 3, 4, 5, 6, 7, 8, 9, 10]\n",
    "# Two options:\n",
    "numbers.reverse()\n",
    "# Or, like with strings:\n",
    "numbers=numbers[::-1]\n",
    "assert numbers == [10, 9, 8, 7, 6, 5, 4, 3, 2, 1], \"Assert Error means that the answer is incorrect.\" \n",
    "print(\"Exercise 3 is correct.\")"
   ]
  },
  {
   "cell_type": "markdown",
   "metadata": {},
   "source": [
    "> Strings in Python do not have a reverse() method, and lists do. This is because strings are **immutable**."
   ]
  },
  {
   "cell_type": "code",
   "execution_count": 19,
   "metadata": {},
   "outputs": [
    {
     "name": "stdout",
     "output_type": "stream",
     "text": [
      "Exercise 4 is correct.\n"
     ]
    }
   ],
   "source": [
    "# Exercise 4\n",
    "# Sort the vegetables in alphabetical order\n",
    "vegetables.sort()\n",
    "assert vegetables == ['broccoli', 'carrot', 'cauliflower', 'eggplant', 'tomato', 'zucchini']\n",
    "print(\"Exercise 4 is correct.\")"
   ]
  },
  {
   "cell_type": "code",
   "execution_count": 21,
   "metadata": {},
   "outputs": [
    {
     "name": "stdout",
     "output_type": "stream",
     "text": [
      "Exercise 5 is correct.\n"
     ]
    }
   ],
   "source": [
    "# Exercise 5\n",
    "# Write the code necessary to sort the fruits in reverse alphabetical order\n",
    "fruits.sort(reverse=True)\n",
    "assert fruits == ['tomato', 'strawberry', 'mango', 'kiwi', 'guava', 'banana']\n",
    "print(\"Exercise 5 is correct.\")\n"
   ]
  },
  {
   "cell_type": "code",
   "execution_count": 22,
   "metadata": {},
   "outputs": [
    {
     "name": "stdout",
     "output_type": "stream",
     "text": [
      "Exercise 6 is correct\n"
     ]
    }
   ],
   "source": [
    "# Exercise 6\n",
    "# Write the code necessary to produce a single list that holds all fruits then all vegetables in the order as they were sorted above.\n",
    "sorted_fruits=fruits.sort(reverse=True)\n",
    "sorted_vegetables=vegetables.sort()\n",
    "fruits_and_veggies=fruits+vegetables\n",
    "assert fruits_and_veggies == ['tomato', 'strawberry', 'mango', 'kiwi', 'guava', 'banana', 'broccoli', 'carrot', 'cauliflower', 'eggplant', 'tomato', 'zucchini']\n",
    "print(\"Exercise 6 is correct\")\n"
   ]
  },
  {
   "cell_type": "markdown",
   "metadata": {},
   "source": [
    "- Set"
   ]
  },
  {
   "cell_type": "code",
   "execution_count": 23,
   "metadata": {},
   "outputs": [
    {
     "name": "stdout",
     "output_type": "stream",
     "text": [
      "{'i', 'w', 'k'}\n",
      "{1, 2, 3, 4}\n"
     ]
    }
   ],
   "source": [
    "# Example set function usage\n",
    "print(set(\"kiwi\"))\n",
    "print(set([1, 2, 2, 3, 3, 3, 4, 4, 4, 4]))"
   ]
  },
  {
   "cell_type": "code",
   "execution_count": 24,
   "metadata": {},
   "outputs": [
    {
     "name": "stdout",
     "output_type": "stream",
     "text": [
      "Exercise 7 is correct.\n"
     ]
    }
   ],
   "source": [
    "# Exercise 7\n",
    "# Write a function definition named get_unique_values that takes in a list and returns a set with only the unique values from that list.\n",
    "def get_unique_values(input_list):\n",
    "    return(set(input_list))\n",
    "assert get_unique_values([\"ant\", \"ant\", \"mosquito\", \"mosquito\", \"ladybug\"]) == {\"ant\", \"mosquito\", \"ladybug\"}\n",
    "assert get_unique_values([\"b\", \"a\", \"n\", \"a\", \"n\", \"a\", \"s\"]) == {\"b\", \"a\", \"n\", \"s\"}\n",
    "assert get_unique_values([\"mary\", \"had\", \"a\", \"little\", \"lamb\", \"little\", \"lamb\", \"little\", \"lamb\"]) == {\"mary\", \"had\", \"a\", \"little\", \"lamb\"}\n",
    "print(\"Exercise 7 is correct.\")\n"
   ]
  },
  {
   "cell_type": "code",
   "execution_count": 25,
   "metadata": {},
   "outputs": [
    {
     "name": "stdout",
     "output_type": "stream",
     "text": [
      "Exercise 8 is correct.\n"
     ]
    }
   ],
   "source": [
    "# Exercise 8\n",
    "# Write a function definition named get_unique_values_from_two_lists that takes two lists and returns a single set with only the unique values\n",
    "def get_unique_values_from_two_lists(list1, list2):\n",
    "    return(set(list1+list2))\n",
    "assert get_unique_values_from_two_lists([5, 1, 2, 3], [3, 4, 5, 5]) == {1, 2, 3, 4, 5}\n",
    "assert get_unique_values_from_two_lists([1, 1], [2, 2, 3]) == {1, 2, 3}\n",
    "assert get_unique_values_from_two_lists([\"tomato\", \"mango\", \"kiwi\"], [\"eggplant\", \"tomato\", \"broccoli\"]) == {\"tomato\", \"mango\", \"kiwi\", \"eggplant\", \"broccoli\"}\n",
    "print(\"Exercise 8 is correct.\")"
   ]
  },
  {
   "cell_type": "code",
   "execution_count": null,
   "metadata": {},
   "outputs": [
    {
     "name": "stdout",
     "output_type": "stream",
     "text": [
      "Exercise 9 is correct.\n"
     ]
    }
   ],
   "source": [
    "# Exercise 9\n",
    "# Write a function definition named get_values_in_common that takes two lists and returns a single set with the values that each list has in common\n",
    "def get_values_in_common(list1, list2):\n",
    "    return set(list1).intersection(list2)\n",
    "assert get_values_in_common([5, 1, 2, 3], [3, 4, 5, 5]) == {3, 5}\n",
    "assert get_values_in_common([1, 2], [2, 2, 3]) == {2}\n",
    "assert get_values_in_common([\"tomato\", \"mango\", \"kiwi\"], [\"eggplant\", \"tomato\", \"broccoli\"]) == {\"tomato\"}\n",
    "print(\"Exercise 9 is correct.\")"
   ]
  },
  {
   "cell_type": "code",
   "execution_count": 31,
   "metadata": {},
   "outputs": [
    {
     "name": "stdout",
     "output_type": "stream",
     "text": [
      "Exercise 9 is correct.\n"
     ]
    }
   ],
   "source": [
    "# You can do the same using list comprehension instead of sets:\n",
    "def get_values_in_common(list1, list2):\n",
    "    common_elem = [x for x in list1 if x in list2]\n",
    "    return(set(common_elem))\n",
    "assert get_values_in_common([5, 1, 2, 3], [3, 4, 5, 5]) == {3, 5}\n",
    "print(\"Exercise 9 is correct.\")"
   ]
  },
  {
   "cell_type": "code",
   "execution_count": 29,
   "metadata": {},
   "outputs": [
    {
     "name": "stdout",
     "output_type": "stream",
     "text": [
      "Exercise 10 is correct.\n"
     ]
    }
   ],
   "source": [
    "# Exercise 10\n",
    "# Write a function definition named get_values_not_in_common that takes two lists and returns a single set with the values that each list does not have in common\n",
    "def get_values_not_in_common(list1, list2):\n",
    "    return set(list1).symmetric_difference(list2)\n",
    "assert get_values_not_in_common([5, 1, 2, 3], [3, 4, 5, 5]) == {1, 2, 4}\n",
    "assert get_values_not_in_common([1, 1], [2, 2, 3]) == {1, 2, 3}\n",
    "assert get_values_not_in_common([\"tomato\", \"mango\", \"kiwi\"], [\"eggplant\", \"tomato\", \"broccoli\"]) == {\"mango\", \"kiwi\", \"eggplant\", \"broccoli\"}\n",
    "print(\"Exercise 10 is correct.\")"
   ]
  },
  {
   "cell_type": "markdown",
   "metadata": {},
   "source": [
    "> Hint: Do you remember that in class we defined other ways of performing this set operations?"
   ]
  },
  {
   "cell_type": "markdown",
   "metadata": {},
   "source": []
  },
  {
   "cell_type": "code",
   "execution_count": 32,
   "metadata": {},
   "outputs": [
    {
     "name": "stdout",
     "output_type": "stream",
     "text": [
      "Exercise 10 is correct.\n"
     ]
    }
   ],
   "source": [
    "# You can do the same using list comprehension instead of sets:\n",
    "def get_values_not_in_common(list1, list2):\n",
    "    not_in_common = [x for x in list1 + list2 if x not in list1 or x not in list2]\n",
    "    return set(not_in_common)\n",
    "assert get_values_not_in_common([5, 1, 2, 3], [3, 4, 5, 5]) == {1, 2, 4}\n",
    "print(\"Exercise 10 is correct.\")"
   ]
  },
  {
   "cell_type": "markdown",
   "metadata": {},
   "source": [
    "- Dict"
   ]
  },
  {
   "cell_type": "code",
   "execution_count": 33,
   "metadata": {},
   "outputs": [],
   "source": [
    "# Run this cell in order to have these two dictionary variables defined.\n",
    "tukey_paper = {\n",
    "    \"title\": \"The Future of Data Analysis\",\n",
    "    \"author\": \"John W. Tukey\",\n",
    "    \"link\": \"https://projecteuclid.org/euclid.aoms/1177704711\",\n",
    "    \"year_published\": 1962\n",
    "}\n",
    "\n",
    "thomas_paper = {\n",
    "    \"title\": \"A mathematical model of glutathione metabolism\",\n",
    "    \"author\": \"Rachel Thomas\",\n",
    "    \"link\": \"https://www.ncbi.nlm.nih.gov/pubmed/18442411\",\n",
    "    \"year_published\": 2008\n",
    "}"
   ]
  },
  {
   "cell_type": "code",
   "execution_count": 36,
   "metadata": {},
   "outputs": [
    {
     "name": "stdout",
     "output_type": "stream",
     "text": [
      "Exercise 11 is correct.\n"
     ]
    }
   ],
   "source": [
    "# Exercise 11\n",
    "# Write a function named get_paper_title that takes in a dictionary and returns the title property\n",
    "def get_paper_title(input_dict):\n",
    "    return(input_dict[\"title\"])\n",
    "assert get_paper_title(tukey_paper) == \"The Future of Data Analysis\"\n",
    "assert get_paper_title(thomas_paper) == \"A mathematical model of glutathione metabolism\"\n",
    "print(\"Exercise 11 is correct.\")"
   ]
  },
  {
   "cell_type": "code",
   "execution_count": 37,
   "metadata": {},
   "outputs": [
    {
     "name": "stdout",
     "output_type": "stream",
     "text": [
      "Exercise 12 is correct.\n"
     ]
    }
   ],
   "source": [
    "# Exercise 12\n",
    "# Write a function named get_year_published that takes in a dictionary and returns the value behind the \"year_published\" key.\n",
    "def get_year_published(input_dict):\n",
    "    return input_dict[\"year_published\"]\n",
    "assert get_year_published(tukey_paper) == 1962\n",
    "assert get_year_published(thomas_paper) == 2008\n",
    "print(\"Exercise 12 is correct.\")\n",
    "\n",
    "# Run this code to create data for the next two questions\n",
    "book = {\n",
    "    \"title\": \"Genetic Algorithms and Machine Learning for Programmers\",\n",
    "    \"price\": 36.99,\n",
    "    \"author\": \"Frances Buontempo\"\n",
    "}"
   ]
  },
  {
   "cell_type": "code",
   "execution_count": 38,
   "metadata": {},
   "outputs": [
    {
     "name": "stdout",
     "output_type": "stream",
     "text": [
      "Exercise 13 is complete.\n"
     ]
    }
   ],
   "source": [
    "# Exercise 13\n",
    "# Write a function named get_price that takes in a dictionary and returns the price\n",
    "\n",
    "def get_price(input_dict):\n",
    "    return input_dict[\"price\"]\n",
    "assert get_price(book) == 36.99\n",
    "print(\"Exercise 13 is complete.\")"
   ]
  },
  {
   "cell_type": "code",
   "execution_count": 39,
   "metadata": {},
   "outputs": [
    {
     "name": "stdout",
     "output_type": "stream",
     "text": [
      "Exercise 14 is complete.\n"
     ]
    }
   ],
   "source": [
    "# Exercise 14\n",
    "# Write a function named get_book_author that takes in a dictionary (the above declared book variable) and returns the author's name\n",
    "\n",
    "def get_book_author(input_dict):\n",
    "    return input_dict[\"author\"]\n",
    "assert get_book_author(book) == \"Frances Buontempo\"\n",
    "print(\"Exercise 14 is complete.\")"
   ]
  },
  {
   "cell_type": "markdown",
   "metadata": {},
   "source": [
    "### Functions"
   ]
  },
  {
   "cell_type": "code",
   "execution_count": 41,
   "metadata": {},
   "outputs": [
    {
     "name": "stdout",
     "output_type": "stream",
     "text": [
      "Exercise 15 is correct.\n"
     ]
    }
   ],
   "source": [
    "## Functions to describe data \n",
    "\n",
    "# Exercise 15\n",
    "# Write a function definition named sum_all that takes in sequence of numbers and returns all the numbers added together.\n",
    "def sum_all(numbers_list):\n",
    "    return sum(numbers_list)\n",
    "assert sum_all([1, 2, 3, 4]) == 10\n",
    "assert sum_all([3, 3, 3]) == 9\n",
    "assert sum_all([0, 5, 6]) == 11\n",
    "print(\"Exercise 15 is correct.\")"
   ]
  },
  {
   "cell_type": "markdown",
   "metadata": {},
   "source": [
    "**Exercise 16: compute the mean**\n",
    "**Mean Formula:**\n",
    "\n",
    "The **mean** (average) of a set of numbers $x_1, x_2, \\dots, x_n$ is:\n",
    "\n",
    "$$\n",
    "\\text{Mean} = \\frac{x_1 + x_2 + \\dots + x_n}{n} = \\frac{1}{n} \\sum_{i=1}^{n} x_i\n",
    "$$\n",
    "\n",
    "Where:  \n",
    "- $n$ = total number of elements  \n",
    "- $x_i$ = each individual element in the dataset"
   ]
  },
  {
   "cell_type": "code",
   "execution_count": null,
   "metadata": {},
   "outputs": [
    {
     "name": "stdout",
     "output_type": "stream",
     "text": [
      "Exercise 16 is correct.\n"
     ]
    }
   ],
   "source": [
    "# Exercise 16\n",
    "# Write a function definition named mean that takes in sequence of numbers and returns the average value\n",
    "def mean(numbers_list):\n",
    "    return sum(numbers_list) / len(numbers_list)\n",
    "# We will learn how to do this with NumPy or Pandas!\n",
    "assert mean([1, 2, 3, 4]) == 2.5\n",
    "assert mean([3, 3, 3]) == 3\n",
    "assert mean([1, 5, 6]) == 4\n",
    "print(\"Exercise 16 is correct.\")"
   ]
  },
  {
   "cell_type": "code",
   "execution_count": 45,
   "metadata": {},
   "outputs": [
    {
     "name": "stdout",
     "output_type": "stream",
     "text": [
      "Exercise 16 is correct.\n"
     ]
    }
   ],
   "source": [
    "# Alternative:\n",
    "import statistics\n",
    "\n",
    "def mean(numbers_list):\n",
    "    return statistics.mean(numbers_list)\n",
    "assert mean([1, 2, 3, 4]) == 2.5\n",
    "assert mean([3, 3, 3]) == 3\n",
    "assert mean([1, 5, 6]) == 4\n",
    "print(\"Exercise 16 is correct.\")"
   ]
  },
  {
   "cell_type": "markdown",
   "metadata": {},
   "source": [
    "**Exercise 17: compute the median**\n",
    "**Median Formula:**\n",
    "\n",
    "The **median** of a list of numbers is the middle value when the numbers are sorted.  \n",
    "\n",
    "- If the list has **odd length** $n$:\n",
    "$$\n",
    "\\text{median} = \\text{sorted\\_list}\\left[\\frac{n-1}{2}\\right]\n",
    "$$\n",
    "\n",
    "- If the list has **even length** $n$:\n",
    "$$\n",
    "\\text{median} = \\frac{\\text{sorted\\_list}\\left[\\frac{n}{2}-1\\right] + \\text{sorted\\_list}\\left[\\frac{n}{2}\\right]}{2}\n",
    "$$"
   ]
  },
  {
   "cell_type": "code",
   "execution_count": 43,
   "metadata": {},
   "outputs": [
    {
     "name": "stdout",
     "output_type": "stream",
     "text": [
      "Exercise 17 is correct.\n"
     ]
    }
   ],
   "source": [
    "# Exercise 17\n",
    "# Write a function definition named median that takes in sequence of numbers and returns the median value\n",
    "def median(numbers_list):\n",
    "    n = len(numbers_list)\n",
    "    sorted_nums = sorted(numbers_list)\n",
    "    mid = n // 2\n",
    "    if n % 2 == 0:\n",
    "        return (sorted_nums[mid - 1] + sorted_nums[mid]) / 2\n",
    "    else:\n",
    "        return sorted_nums[mid]\n",
    "assert median([1, 2, 3, 4, 5]) == 3.0\n",
    "assert median([1, 2, 3]) == 2.0\n",
    "assert median([1, 5, 6]) == 5.0\n",
    "assert median([1, 2, 5, 6]) == 3.5\n",
    "print(\"Exercise 17 is correct.\")"
   ]
  },
  {
   "cell_type": "code",
   "execution_count": 44,
   "metadata": {},
   "outputs": [
    {
     "name": "stdout",
     "output_type": "stream",
     "text": [
      "Exercise 17 is correct.\n"
     ]
    }
   ],
   "source": [
    "# Alternative:\n",
    "import statistics\n",
    "\n",
    "def median(numbers_list):\n",
    "    return statistics.median(numbers_list)\n",
    "assert median([1, 2, 3, 4, 5]) == 3.0\n",
    "assert median([1, 2, 3]) == 2.0\n",
    "assert median([1, 5, 6]) == 5.0\n",
    "assert median([1, 2, 5, 6]) == 3.5\n",
    "print(\"Exercise 17 is correct.\")"
   ]
  },
  {
   "cell_type": "markdown",
   "metadata": {},
   "source": [
    "**Exercise 18: compute the mode** <br>\n",
    "**Mode Formula:** <br>\n",
    "The **Mode** is computed based on frequency, because it is the most recurrent value in the dataset."
   ]
  },
  {
   "cell_type": "code",
   "execution_count": 46,
   "metadata": {},
   "outputs": [
    {
     "name": "stdout",
     "output_type": "stream",
     "text": [
      "Exercise 18 is correct.\n"
     ]
    }
   ],
   "source": [
    "# Exercise 18\n",
    "# Write a function definition named mode that takes in sequence of numbers and returns the most commonly occuring value\n",
    "def mode(numbers_list):\n",
    "    return statistics.mode(numbers_list)\n",
    "    \n",
    "assert mode([1, 2, 2, 3, 4]) == 2\n",
    "assert mode([1, 1, 2, 3]) == 1\n",
    "assert mode([2, 2, 3, 3, 3]) == 3\n",
    "print(\"Exercise 18 is correct.\")"
   ]
  },
  {
   "cell_type": "markdown",
   "metadata": {},
   "source": [
    "Applying functions to lists."
   ]
  },
  {
   "cell_type": "code",
   "execution_count": null,
   "metadata": {},
   "outputs": [
    {
     "name": "stdout",
     "output_type": "stream",
     "text": [
      "Exercise 20 is correct.\n"
     ]
    }
   ],
   "source": [
    "# Exercise 19\n",
    "# Write a function definition named get_highest_number that takes in sequence of numbers and returns the largest number.\n",
    "def get_highest_number(numbers_list):\n",
    "    return(max(numbers_list))\n",
    "assert get_highest_number([1, 2, 3]) == 3\n",
    "assert get_highest_number([-5, -4, -3, -2, -1, 1, 2, 3, 4, 5]) == 5\n",
    "assert get_highest_number([-5, -3, 1]) == 1\n",
    "print(\"Exercise 19 is correct.\")"
   ]
  },
  {
   "cell_type": "code",
   "execution_count": null,
   "metadata": {},
   "outputs": [
    {
     "name": "stdout",
     "output_type": "stream",
     "text": [
      "Exercise 21 is correct.\n"
     ]
    }
   ],
   "source": [
    "# Exercise 20\n",
    "# Write a function definition named get_smallest_number that takes in sequence of numbers and returns the smallest number.\n",
    "def get_smallest_number(numbers_list):\n",
    "    return(min(numbers_list))\n",
    "assert get_smallest_number([1, 3, 2]) == 1\n",
    "assert get_smallest_number([5, -5, -4, -3, -2, -1, 1, 2, 3, 4]) == -5\n",
    "assert get_smallest_number([-4, -3, 1, -10]) == -10\n",
    "print(\"Exercise 20 is correct.\")"
   ]
  },
  {
   "cell_type": "code",
   "execution_count": null,
   "metadata": {},
   "outputs": [
    {
     "name": "stdout",
     "output_type": "stream",
     "text": [
      "Exercise 22 is correct.\n"
     ]
    }
   ],
   "source": [
    "# Exercise 21\n",
    "# Write a function definition named only_odd_numbers that takes in sequence of numbers and returns the odd numbers in a list.\n",
    "def only_odd_numbers(numbers_list):\n",
    "    return[num for num in numbers_list if num % 2 != 0]\n",
    "assert only_odd_numbers([1, 2, 3]) == [1, 3]\n",
    "assert only_odd_numbers([-5, -4, -3, -2, -1, 1, 2, 3, 4, 5]) == [-5, -3, -1, 1, 3, 5]\n",
    "assert only_odd_numbers([-4, -3, 1]) == [-3, 1]\n",
    "assert only_odd_numbers([2, 2, 2, 2, 2]) == []\n",
    "print(\"Exercise 21 is correct.\")"
   ]
  },
  {
   "cell_type": "code",
   "execution_count": null,
   "metadata": {},
   "outputs": [
    {
     "name": "stdout",
     "output_type": "stream",
     "text": [
      "Exercise 23 is correct.\n"
     ]
    }
   ],
   "source": [
    "# Exercise 22\n",
    "# Write a function definition named only_even_numbers that takes in sequence of numbers and returns the even numbers in a list.\n",
    "def only_even_numbers(numbers_list):\n",
    "    return[num for num in numbers_list if num % 2 == 0]\n",
    "assert only_even_numbers([1, 2, 3]) == [2]\n",
    "assert only_even_numbers([-5, -4, -3, -2, -1, 1, 2, 3, 4, 5]) == [-4, -2, 2, 4]\n",
    "assert only_even_numbers([-4, -3, 1]) == [-4]\n",
    "assert only_even_numbers([1, 1, 1, 1, 1, 1]) == []\n",
    "print(\"Exercise 22 is correct.\")"
   ]
  },
  {
   "cell_type": "code",
   "execution_count": null,
   "metadata": {},
   "outputs": [
    {
     "name": "stdout",
     "output_type": "stream",
     "text": [
      "Exercise 24 is correct.\n"
     ]
    }
   ],
   "source": [
    "# Exercise 23\n",
    "# Write a function definition named only_positive_numbers that takes in sequence of numbers and returns the positive numbers in a list.\n",
    "def only_positive_numbers(numbers_list):\n",
    "    return[num for num in numbers_list if num > 0]\n",
    "assert only_positive_numbers([1, 2, 3]) == [1, 2, 3]\n",
    "assert only_positive_numbers([-5, -4, -3, -2, -1, 1, 2, 3, 4, 5]) == [1, 2, 3, 4, 5]\n",
    "assert only_positive_numbers([-4, -3, 1]) == [1]\n",
    "print(\"Exercise 23 is correct.\")\n"
   ]
  },
  {
   "cell_type": "code",
   "execution_count": null,
   "metadata": {},
   "outputs": [
    {
     "name": "stdout",
     "output_type": "stream",
     "text": [
      "Exercise 25 is correct.\n"
     ]
    }
   ],
   "source": [
    "# Exercise 24\n",
    "# Write a function definition named only_negative_numbers that takes in sequence of numbers and returns the negative numbers in a list.\n",
    "def only_negative_numbers(numbers_list):\n",
    "    return[num for num in numbers_list if num < 0]\n",
    "\n",
    "assert only_negative_numbers([1, 2, 3]) == []\n",
    "assert only_negative_numbers([-5, -4, -3, -2, -1, 1, 2, 3, 4, 5]) == [-5, -4, -3, -2, -1]\n",
    "assert only_negative_numbers([-4, -3, 1]) == [-4, -3]\n",
    "print(\"Exercise 24 is correct.\")"
   ]
  }
 ],
 "metadata": {
  "kernelspec": {
   "display_name": "transf_env",
   "language": "python",
   "name": "python3"
  },
  "language_info": {
   "codemirror_mode": {
    "name": "ipython",
    "version": 3
   },
   "file_extension": ".py",
   "mimetype": "text/x-python",
   "name": "python",
   "nbconvert_exporter": "python",
   "pygments_lexer": "ipython3",
   "version": "3.12.9"
  }
 },
 "nbformat": 4,
 "nbformat_minor": 2
}
