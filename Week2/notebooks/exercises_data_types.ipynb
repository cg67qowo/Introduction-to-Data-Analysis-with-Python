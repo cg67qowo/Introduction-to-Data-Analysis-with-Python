{
 "cells": [
  {
   "cell_type": "markdown",
   "id": "2d9a0313",
   "metadata": {},
   "source": [
    "# 1. Simple data types\n",
    "### 2.1 Strings"
   ]
  },
  {
   "cell_type": "code",
   "execution_count": 43,
   "id": "5b65d4ee",
   "metadata": {},
   "outputs": [],
   "source": [
    "# You initialize a string with a name of choice\n",
    "amazing_string = \"Hello\"\n",
    "second_amazing_string = \"students\"\n",
    "third_amazing_string = \"!\""
   ]
  },
  {
   "cell_type": "markdown",
   "id": "fdabb852",
   "metadata": {},
   "source": [
    "When you initialize an object (in this case, a string), you are just passing the information to Python. This means that if you run the above cell, you won't see anything happen. However, Python now knows the strings that you defined, and you can use them in the next cells. \n",
    "> Please keep in mind that just filling the cell with code is not enough, you also need to run it with the small play command on the left."
   ]
  },
  {
   "cell_type": "markdown",
   "id": "210dac80",
   "metadata": {},
   "source": [
    "You can merge several string with the `+` operator."
   ]
  },
  {
   "cell_type": "code",
   "execution_count": 44,
   "id": "ef126320",
   "metadata": {},
   "outputs": [
    {
     "name": "stdout",
     "output_type": "stream",
     "text": [
      "Hellostudents!\n",
      "Hello students!\n"
     ]
    }
   ],
   "source": [
    "all_strings = amazing_string+second_amazing_string+third_amazing_string\n",
    "print(all_strings)\n",
    "all_strings_space = amazing_string+\" \"+second_amazing_string+third_amazing_string # For readability, you add a space between the two strings, added to the above line as a new string (\" \"). You can see that it is a string because it is delimited by quotes.\n",
    "print(all_strings_space)"
   ]
  },
  {
   "cell_type": "markdown",
   "id": "3afcc3ac",
   "metadata": {},
   "source": [
    "### Excursus: Python's built-in words"
   ]
  },
  {
   "cell_type": "markdown",
   "id": "a0296c85",
   "metadata": {},
   "source": [
    "Programming languages like Python have many similarities with natural languages. For example, they **already have their own vocabulary**. Those are Python's built-in words, that Python already knows. Some examples are `print` or `len` that we already saw. Differently from that, **variable names** need to be defined by you. In this case, Python will learn them inside your own project (for example, in the next cell you can still operate on the string you defined in the previous cell). \n",
    "> In our use cases, the built-in words will be **methods**. Think of them as **performing an action** on the variables. For example, `len` computes the length of the input, and returns it to you. The input itself (the **variable**) is something that **you will define**."
   ]
  },
  {
   "cell_type": "markdown",
   "id": "00fa307a",
   "metadata": {},
   "source": [
    "Naming variables is up to you, there are no strict rules, but only conventions. What you need to avoid is **naming them with Python built-in words**. For example, naming a string \"`print`\" would be a very bad idea.\n",
    "> Keep in mind that Python's data types are built-in as well. Therefore, **do not name your variables like the data type**. In practice: do not name your string \"str\", your list \"list\", your integer \"int\", etc. **Even if it might work in the moment, it will create conflicts as you keep coding.**\n",
    "> Tip: If you are unsure how to call the variable, choose something personal. For example, the convention is something like \"`my_string`\" or \"`new_string`\". If you are handling specific data (e.g., your first name), a safe option is also to refer to that in the naming process - e.g. `first_name`."
   ]
  },
  {
   "cell_type": "markdown",
   "id": "bac779a3",
   "metadata": {},
   "source": [
    "One of the questions that might arise is: How do I know Python's built-in words? <br>\n",
    "Typically, you will learn them by experience. Python's built-in words are a lot, and you won't need (or remember them all). While you are expected to remember the basic ones (`print`, `len`, and the other ones that you will see in this classes), you will also need to **search for solutions** when you need a specific operation. Do not worry: it will all come with experience, and you will be remembering them more and more as you use them! <br>\n",
    "The good resource to use is [**Python's official documentation**](https://docs.python.org/3/tutorial/index.html), where you can look them up when you need them.\n",
    "> Hint: In the official Python documentation, strings are explained under \"text\"."
   ]
  },
  {
   "cell_type": "markdown",
   "id": "d4524d21",
   "metadata": {},
   "source": [
    "> Hint: In VSC, if you type a variable name that is a built-in word, Python will recognize it and **highlight it in some color**, while if you write a variable name that is undefined yet, Python will underline it to flag it as unrecognized. Beware that if you set a = after the variable name, the interpreter won't underline it anymore, because it will expect you to define it."
   ]
  },
  {
   "cell_type": "markdown",
   "id": "e122296a",
   "metadata": {},
   "source": [
    "We will now see basic operations with strings."
   ]
  },
  {
   "cell_type": "code",
   "execution_count": 45,
   "id": "a2cb6fc9",
   "metadata": {},
   "outputs": [
    {
     "name": "stdout",
     "output_type": "stream",
     "text": [
      "Python is fun.\n"
     ]
    }
   ],
   "source": [
    "my_string=\"Python is fun.\"\n",
    "print(my_string)"
   ]
  },
  {
   "cell_type": "code",
   "execution_count": 46,
   "id": "99536ba6",
   "metadata": {},
   "outputs": [
    {
     "data": {
      "text/plain": [
       "14"
      ]
     },
     "execution_count": 46,
     "metadata": {},
     "output_type": "execute_result"
    }
   ],
   "source": [
    "# Count the lenght of the string (length=number of characters).\n",
    "len(my_string)"
   ]
  },
  {
   "cell_type": "code",
   "execution_count": 47,
   "id": "f79248bd",
   "metadata": {},
   "outputs": [
    {
     "data": {
      "text/plain": [
       "'h'"
      ]
     },
     "execution_count": 47,
     "metadata": {},
     "output_type": "execute_result"
    }
   ],
   "source": [
    "# Access a specific character of the string\n",
    "my_string[3] # Important: Python indexing starts by 0, so this will return the 4th character"
   ]
  },
  {
   "cell_type": "markdown",
   "id": "4cfb9b82",
   "metadata": {},
   "source": [
    "Here, you are directly performing an operation, so the cell outputs the result without the need to use `print`. It is different from the string initialization that you did above: there, you were just defining a variable. This is way you needed a print statement to see the results, and you do not need it now."
   ]
  },
  {
   "cell_type": "code",
   "execution_count": 48,
   "id": "b49394ff",
   "metadata": {},
   "outputs": [
    {
     "name": "stdout",
     "output_type": "stream",
     "text": [
      "PYTHON IS FUN.\n",
      "python is fun.\n",
      "Python is fun.\n"
     ]
    }
   ],
   "source": [
    "# Change capitalization of the string\n",
    "upper_string = my_string.upper()\n",
    "print(upper_string)\n",
    "lower_string = my_string.lower()\n",
    "print(lower_string)\n",
    "capitalized_string = my_string.capitalize() # capitalizes the first word of the string\n",
    "print(capitalized_string)"
   ]
  },
  {
   "cell_type": "code",
   "execution_count": 49,
   "id": "2f71bd7f",
   "metadata": {},
   "outputs": [
    {
     "name": "stdout",
     "output_type": "stream",
     "text": [
      "['Python', 'is', 'fun.']\n",
      "['Hello', ' my dear friend', ' are you doing well?']\n"
     ]
    }
   ],
   "source": [
    "# Split a string into words\n",
    "words = my_string.split()\n",
    "print(words)\n",
    "# If no argument is passed (= there is nothing inside the parentheses), split() splits the string into words (where words are defined by spaces). \n",
    "# However, you can also split the string based on a specific character, for example a comma:\n",
    "comma_string = \"Hello, my dear friend, are you doing well?\"\n",
    "print(comma_string.split(\",\")) # the character will be removed in the output, and it needs to be passed as a string (= in quotes)"
   ]
  },
  {
   "cell_type": "markdown",
   "id": "d6ba961c",
   "metadata": {},
   "source": [
    "A very useful built-in method for cleaning a string is `strip()`. It removes **whitespaces**: spaces, tabs, and newlines. This won't remove spaces **inside** the string."
   ]
  },
  {
   "cell_type": "code",
   "execution_count": 50,
   "id": "f660bd6a",
   "metadata": {},
   "outputs": [
    {
     "name": "stdout",
     "output_type": "stream",
     "text": [
      "let's clean this string\n",
      "let's clean this string    \n",
      "             let's clean this string\n"
     ]
    }
   ],
   "source": [
    "# Remove whitespaces at the beginning and end of the string\n",
    "string_to_strip = \"             let's clean this string    \"\n",
    "stripped_string = string_to_strip.strip()\n",
    "print(stripped_string)\n",
    "# Strip only left side of the string\n",
    "stripped_string_left = string_to_strip.lstrip()\n",
    "print(stripped_string_left)\n",
    "# Strip only right side of the string\n",
    "stripped_string_right = string_to_strip.rstrip()\n",
    "print(stripped_string_right)"
   ]
  },
  {
   "cell_type": "code",
   "execution_count": 51,
   "id": "bd575760",
   "metadata": {},
   "outputs": [
    {
     "name": "stdout",
     "output_type": "stream",
     "text": [
      "Python is boring.\n"
     ]
    }
   ],
   "source": [
    "# Substitute a substring\n",
    "replaced_string = my_string.replace(\"fun\", \"boring\")\n",
    "print(replaced_string)"
   ]
  },
  {
   "cell_type": "markdown",
   "id": "d3ad45c9",
   "metadata": {},
   "source": [
    "> Important: String data types are actually **immutable**. THis means that after you initialized them, you cannot modify them. What happens with the `replace` method is that Python *returns a new string*, that is a copy of the old one, but with a change. "
   ]
  },
  {
   "cell_type": "markdown",
   "id": "a1b18ef0",
   "metadata": {},
   "source": [
    "Python automatically recognizes the data type of the variable you initialize. A string is **anything that is contained by quotes**. For example, a string can contain numbers - if it is delimited by quotes, it will still be of datatype string and not integer (whole number, `int`)."
   ]
  },
  {
   "cell_type": "code",
   "execution_count": 52,
   "id": "839b3543",
   "metadata": {},
   "outputs": [
    {
     "data": {
      "text/plain": [
       "True"
      ]
     },
     "execution_count": 52,
     "metadata": {},
     "output_type": "execute_result"
    }
   ],
   "source": [
    "# Check if a string contains only numerical characters\n",
    "num_string = \"1\" \n",
    "num_string.isdigit()"
   ]
  },
  {
   "cell_type": "code",
   "execution_count": 53,
   "id": "20f42817",
   "metadata": {},
   "outputs": [
    {
     "name": "stdout",
     "output_type": "stream",
     "text": [
      "Found Python!\n"
     ]
    },
    {
     "data": {
      "text/plain": [
       "0"
      ]
     },
     "execution_count": 53,
     "metadata": {},
     "output_type": "execute_result"
    }
   ],
   "source": [
    "# Check if a string contains a specific substring\n",
    "if \"Python\" in my_string: # \"in\" is a built-in word!\n",
    "    print(\"Found Python!\")\n",
    "\n",
    "# Check where exactly it is (at which index)\n",
    "my_string.find(\"Python\")"
   ]
  },
  {
   "cell_type": "code",
   "execution_count": 54,
   "id": "ec185036",
   "metadata": {},
   "outputs": [
    {
     "data": {
      "text/plain": [
       "1"
      ]
     },
     "execution_count": 54,
     "metadata": {},
     "output_type": "execute_result"
    }
   ],
   "source": [
    "# Count how many times a substring appears\n",
    "my_string.count(\"Python\")"
   ]
  },
  {
   "cell_type": "markdown",
   "id": "126eabb8",
   "metadata": {},
   "source": [
    "Here, we had to use a **control flow**. Remember that in class we talked about `while`, `if`, `elif`, `else`, `for`. They can be useful to **iteratively apply** the actions seen above. We will see this better in the section about **lists** - but first, here are some homework about **strings**."
   ]
  },
  {
   "cell_type": "code",
   "execution_count": 55,
   "id": "83aa4059",
   "metadata": {},
   "outputs": [],
   "source": [
    "# Exercise 1\n",
    "# initialize two strings and merge them into a single string. Remember to add a space if necessary."
   ]
  },
  {
   "cell_type": "code",
   "execution_count": 56,
   "id": "2c254962",
   "metadata": {},
   "outputs": [],
   "source": [
    "# Exercise 2\n",
    "# Take the merged string of the above cell and turn all characters to uppercase"
   ]
  },
  {
   "cell_type": "code",
   "execution_count": 57,
   "id": "f01e41c0",
   "metadata": {},
   "outputs": [],
   "source": [
    "# Exercise 3\n",
    "# Look for all the occurrences of \"a\" in the string"
   ]
  },
  {
   "cell_type": "code",
   "execution_count": 58,
   "id": "f8c0b22e",
   "metadata": {},
   "outputs": [],
   "source": [
    "# Exercise 4\n",
    "# Capitalize all the \"a\" characters in the string\n",
    "# Hint: instead of using \"upper\", try replacing the character with its capitalized version\n"
   ]
  },
  {
   "cell_type": "code",
   "execution_count": 59,
   "id": "6906ab42",
   "metadata": {},
   "outputs": [],
   "source": [
    "# Exercise 5\n",
    "# add the following string to your string: \"Andrew, I am astonished.\" Count how many times the letter 'a' (or 'A') appears, then lowercase the whole string."
   ]
  },
  {
   "cell_type": "markdown",
   "id": "f0a46bf7",
   "metadata": {},
   "source": [
    "### 2.2 Integers (`int`)"
   ]
  },
  {
   "cell_type": "code",
   "execution_count": 60,
   "id": "88ead8df",
   "metadata": {},
   "outputs": [
    {
     "name": "stdout",
     "output_type": "stream",
     "text": [
      "3\n"
     ]
    }
   ],
   "source": [
    "# Remember: you need to define your variables\n",
    "i = 3\n",
    "j = 5\n",
    "print(i)"
   ]
  },
  {
   "cell_type": "markdown",
   "id": "a0367cb2",
   "metadata": {},
   "source": [
    "We briefly saw already in the first week that you can perform mathematical operations easily with Python:"
   ]
  },
  {
   "cell_type": "markdown",
   "id": "91d72fe4",
   "metadata": {},
   "source": [
    "Python **automatically recognizes** the data type of the objects you initialize, and it is able to convert them:"
   ]
  },
  {
   "cell_type": "code",
   "execution_count": 61,
   "id": "835d5d1f",
   "metadata": {},
   "outputs": [
    {
     "name": "stdout",
     "output_type": "stream",
     "text": [
      "3\n",
      "5.0\n",
      "42\n"
     ]
    }
   ],
   "source": [
    "# Convertions\n",
    "x = int(3.5)\n",
    "print(x)\n",
    "y = float(5)\n",
    "print(y)\n",
    "z = str(42) # \"42\" for Python\n",
    "print(z)"
   ]
  },
  {
   "cell_type": "markdown",
   "id": "e1f8067a",
   "metadata": {},
   "source": [
    "Some built-in functions for integers:"
   ]
  },
  {
   "cell_type": "code",
   "execution_count": 62,
   "id": "8ccd3047",
   "metadata": {},
   "outputs": [
    {
     "data": {
      "text/plain": [
       "5"
      ]
     },
     "execution_count": 62,
     "metadata": {},
     "output_type": "execute_result"
    }
   ],
   "source": [
    "# Return maximum value\n",
    "max(5, 3)"
   ]
  },
  {
   "cell_type": "code",
   "execution_count": 63,
   "id": "96a8e0e0",
   "metadata": {},
   "outputs": [
    {
     "data": {
      "text/plain": [
       "3"
      ]
     },
     "execution_count": 63,
     "metadata": {},
     "output_type": "execute_result"
    }
   ],
   "source": [
    "# Return minimum value\n",
    "i=5\n",
    "j=3\n",
    "min(i, j)"
   ]
  },
  {
   "cell_type": "code",
   "execution_count": 64,
   "id": "f73e699b",
   "metadata": {},
   "outputs": [
    {
     "data": {
      "text/plain": [
       "8"
      ]
     },
     "execution_count": 64,
     "metadata": {},
     "output_type": "execute_result"
    }
   ],
   "source": [
    "# Return sum\n",
    "sum([i, j])"
   ]
  },
  {
   "cell_type": "code",
   "execution_count": 65,
   "id": "780c338e",
   "metadata": {},
   "outputs": [
    {
     "data": {
      "text/plain": [
       "1"
      ]
     },
     "execution_count": 65,
     "metadata": {},
     "output_type": "execute_result"
    }
   ],
   "source": [
    "# Return absolute value\n",
    "k = -1\n",
    "abs(k)"
   ]
  },
  {
   "cell_type": "code",
   "execution_count": 66,
   "id": "7603e9b0",
   "metadata": {},
   "outputs": [
    {
     "name": "stdout",
     "output_type": "stream",
     "text": [
      "8\n",
      "2\n",
      "15\n",
      "1.6666666666666667\n",
      "125\n"
     ]
    }
   ],
   "source": [
    "# Perform numerical operations with the arithmetical operators that you know from basic maths (they are built-in too)\n",
    "summed_ints = 3+5\n",
    "# Of course, this works too\n",
    "summed_ints=i+j\n",
    "print(summed_ints)\n",
    "subtracted = 5-3\n",
    "print(subtracted)\n",
    "multiplied = 5*3\n",
    "print(multiplied)\n",
    "divided = 5/3\n",
    "print(divided)\n",
    "elevated = 5**3\n",
    "print(elevated)"
   ]
  },
  {
   "cell_type": "markdown",
   "id": "8010decd",
   "metadata": {},
   "source": [
    "Control flows:"
   ]
  },
  {
   "cell_type": "code",
   "execution_count": 67,
   "id": "6156bc97",
   "metadata": {},
   "outputs": [
    {
     "name": "stdout",
     "output_type": "stream",
     "text": [
      "1\n",
      "2\n",
      "3\n",
      "4\n"
     ]
    }
   ],
   "source": [
    "count=0 # let's initialize an integer variable called \"count\"\n",
    "\n",
    "while count <= 3:\n",
    "    count+=1\n",
    "    print(count)\n",
    " # the code is executed until the condition is reached"
   ]
  },
  {
   "cell_type": "code",
   "execution_count": 68,
   "id": "7015be47",
   "metadata": {},
   "outputs": [
    {
     "name": "stdout",
     "output_type": "stream",
     "text": [
      "0 is lower than 3.\n",
      "1 is lower than 3.\n",
      "2 is lower than 3.\n",
      "3 is greater or equals to 3.\n",
      "4 is greater or equals to 3.\n",
      "5 is greater or equals to 3.\n",
      "6 is greater or equals to 3.\n"
     ]
    }
   ],
   "source": [
    "for i in range(7): # range() is a built-in method useful for looping\n",
    "    if i < 3:\n",
    "        print(f\"{i} is lower than 3.\")\n",
    "    else:\n",
    "        print(f\"{i} is greater or equals to 3.\")"
   ]
  },
  {
   "cell_type": "markdown",
   "id": "1ac5031f",
   "metadata": {},
   "source": [
    "##### Exercises"
   ]
  },
  {
   "cell_type": "code",
   "execution_count": 69,
   "id": "413a5f61",
   "metadata": {},
   "outputs": [],
   "source": [
    "# Exercise 6\n",
    "i1 = 6\n",
    "i2 = -4\n",
    "# Return the absolute value of i2 and divide it by i1, then convert the obtained result to float"
   ]
  },
  {
   "cell_type": "code",
   "execution_count": 70,
   "id": "3c69295f",
   "metadata": {},
   "outputs": [],
   "source": [
    "# Exercise 7\n",
    "# Write a snippet that prints i+1 for all 0 < i < 5, and \"Number is too big\" otherwise. Test this exercise for all numbers from 0 to 7."
   ]
  },
  {
   "cell_type": "markdown",
   "id": "0381ad53",
   "metadata": {},
   "source": [
    "# 2. Complex data types\n",
    "### 2.1 Lists (`list`)\n",
    "We talked in class about **lists, tuples, sets, and dictionaries**."
   ]
  },
  {
   "cell_type": "code",
   "execution_count": null,
   "id": "0458006e",
   "metadata": {},
   "outputs": [
    {
     "name": "stdout",
     "output_type": "stream",
     "text": [
      "[1, 2, 3, 4, 5]\n"
     ]
    }
   ],
   "source": [
    "# Initialize a list\n",
    "my_list = [1,2,3,4,5]\n",
    "print(my_list)"
   ]
  },
  {
   "cell_type": "code",
   "execution_count": 92,
   "id": "e50c8f39",
   "metadata": {},
   "outputs": [
    {
     "data": {
      "text/plain": [
       "1"
      ]
     },
     "execution_count": 92,
     "metadata": {},
     "output_type": "execute_result"
    }
   ],
   "source": [
    "# Indexing\n",
    "my_list[0]"
   ]
  },
  {
   "cell_type": "markdown",
   "id": "730a2307",
   "metadata": {},
   "source": [
    "##### 2.1 List"
   ]
  },
  {
   "cell_type": "code",
   "execution_count": 73,
   "id": "de18999c",
   "metadata": {},
   "outputs": [
    {
     "name": "stdout",
     "output_type": "stream",
     "text": [
      "[2, 3]\n",
      "[1, 2, 3]\n",
      "[2, 3, 4, 5]\n"
     ]
    }
   ],
   "source": [
    "# Slicing\n",
    "# Remember: the last element of the range is not included\n",
    "print(my_list[1:3]) # range of elements from 1 to 3, 3 excluded\n",
    "print(my_list[:3]) # range of elements from 0 to 3\n",
    "print(my_list[1:]) # range of elements from 1 until the end"
   ]
  },
  {
   "cell_type": "code",
   "execution_count": 74,
   "id": "373802c9",
   "metadata": {},
   "outputs": [
    {
     "name": "stdout",
     "output_type": "stream",
     "text": [
      "[1, 2, 3, 4, 5, 6]\n"
     ]
    }
   ],
   "source": [
    "# Appending\n",
    "my_list.append(6)\n",
    "print(my_list)"
   ]
  },
  {
   "cell_type": "code",
   "execution_count": 75,
   "id": "75e49a3e",
   "metadata": {},
   "outputs": [],
   "source": [
    "# Inserting\n",
    "my_list.insert(1, 15) # add 15 at index 1"
   ]
  },
  {
   "cell_type": "code",
   "execution_count": 76,
   "id": "71bb0029",
   "metadata": {},
   "outputs": [
    {
     "name": "stdout",
     "output_type": "stream",
     "text": [
      "[1, 15, 3, 4, 5, 6]\n"
     ]
    }
   ],
   "source": [
    "# Removing\n",
    "my_list.remove(2) # remove the element\n",
    "print(my_list)"
   ]
  },
  {
   "cell_type": "code",
   "execution_count": 77,
   "id": "2772447e",
   "metadata": {},
   "outputs": [
    {
     "name": "stdout",
     "output_type": "stream",
     "text": [
      "[1, 15, 3, 5, 6]\n"
     ]
    }
   ],
   "source": [
    "del(my_list[3]) # removes element based on its index\n",
    "print(my_list)"
   ]
  },
  {
   "cell_type": "code",
   "execution_count": 78,
   "id": "4dcc8ddd",
   "metadata": {},
   "outputs": [
    {
     "name": "stdout",
     "output_type": "stream",
     "text": [
      "[1, 15, 3, 5, 6, 0, 24]\n"
     ]
    }
   ],
   "source": [
    "my_list_2 = [0, 24]\n",
    "lists = my_list+my_list_2\n",
    "print(lists)"
   ]
  },
  {
   "cell_type": "markdown",
   "id": "81daf1fb",
   "metadata": {},
   "source": [
    "Some useful **built-in operations**:"
   ]
  },
  {
   "cell_type": "code",
   "execution_count": 79,
   "id": "0303877a",
   "metadata": {},
   "outputs": [
    {
     "name": "stdout",
     "output_type": "stream",
     "text": [
      "5\n",
      "15\n",
      "1\n",
      "30\n"
     ]
    }
   ],
   "source": [
    "print(len(my_list))      # Number of elements\n",
    "print(max(my_list))      # Maximum value\n",
    "print(min(my_list))      # Minimum value\n",
    "print(sum(my_list))      # Sum of elements"
   ]
  },
  {
   "cell_type": "code",
   "execution_count": 80,
   "id": "c17137b3",
   "metadata": {},
   "outputs": [
    {
     "name": "stdout",
     "output_type": "stream",
     "text": [
      "[6, 5, 3, 15, 1]\n"
     ]
    }
   ],
   "source": [
    "# Reverse the elements of the list\n",
    "my_list.reverse()\n",
    "print(my_list)"
   ]
  },
  {
   "cell_type": "markdown",
   "id": "510a9ca2",
   "metadata": {},
   "source": [
    "Let's **iterate through the list** - please remember **control flows** from the lecture."
   ]
  },
  {
   "cell_type": "code",
   "execution_count": 81,
   "id": "fd40e648",
   "metadata": {},
   "outputs": [
    {
     "name": "stdout",
     "output_type": "stream",
     "text": [
      "1\n",
      "2\n",
      "3\n",
      "hello\n",
      "5\n"
     ]
    }
   ],
   "source": [
    "# Iterate through a list and print the elements separately\n",
    "\n",
    "another_list = [1,2,3,\"hello\", 5] # lists are heterogeneous\n",
    "\n",
    "for elem in another_list: # you do not need to explicitly define elem, you do so implicitly with \"for\" and \"in\" (built-in!)\n",
    "    print(elem)"
   ]
  },
  {
   "cell_type": "code",
   "execution_count": 116,
   "id": "cb064c0c",
   "metadata": {},
   "outputs": [
    {
     "name": "stdout",
     "output_type": "stream",
     "text": [
      "The element at position 0 is 1\n",
      "The element at position 1 is 2\n",
      "The element at position 2 is 3\n",
      "The element at position 3 is hello\n",
      "The element at position 4 is 5\n"
     ]
    }
   ],
   "source": [
    "for id in range(len(another_list)): # iterate through all the indices until the max of the list\n",
    "    print(f\"The element at position {id} is {another_list[id]}\")"
   ]
  },
  {
   "cell_type": "markdown",
   "id": "b68c55da",
   "metadata": {},
   "source": [
    "##### Functions"
   ]
  },
  {
   "cell_type": "markdown",
   "id": "a1249fb0",
   "metadata": {},
   "source": [
    "Remember that you can define **functions**, reusable block of code that perform a specific operation. For example:"
   ]
  },
  {
   "cell_type": "code",
   "execution_count": null,
   "id": "2ae73cad",
   "metadata": {},
   "outputs": [
    {
     "name": "stdout",
     "output_type": "stream",
     "text": [
      "The element at position 0 is 1\n",
      "The element at position 1 is 2\n",
      "The element at position 2 is 3\n",
      "The element at position 3 is hello\n",
      "The element at position 4 is 5\n"
     ]
    }
   ],
   "source": [
    "def print_position_element(input_list): # input_list is the argument or parameter\n",
    "    for id in range(len(input_list)): # iterate through all the indices until the max of the list\n",
    "        print(f\"The element at position {id} is {input_list[id]}\")\n",
    "\n",
    "# Call the function\n",
    "print_position_element(another_list)"
   ]
  },
  {
   "cell_type": "code",
   "execution_count": 122,
   "id": "14deef5d",
   "metadata": {},
   "outputs": [
    {
     "data": {
      "text/plain": [
       "[1, 2, 3, 4, 5]"
      ]
     },
     "execution_count": 122,
     "metadata": {},
     "output_type": "execute_result"
    }
   ],
   "source": [
    "def print_position_element(input_list): # input_list is the argument or parameter\n",
    "    for elem in input_list:\n",
    "        elem+=1 # same as elem = elem + 1\n",
    "    return input_list\n",
    "# Call the function\n",
    "print_position_element(my_list)"
   ]
  },
  {
   "cell_type": "markdown",
   "id": "b5b4ef5b",
   "metadata": {},
   "source": [
    "A function defines an action that you perform on a variable. Here, we call this variable **input_list**. This is just a **placeholder** for whatever list you will use when calling the function. This means that you do not need to initialize the parameter in the function. However, you do need to:\n",
    "- be coherent with your naming strategy (the parameter should be used inside the function, without changing its name)\n",
    "- initialize the **actual variable** you use when you call the function (\"another_list\" in the above input - you initialized this variable before, remember?)"
   ]
  },
  {
   "cell_type": "markdown",
   "id": "c334cbfd",
   "metadata": {},
   "source": [
    "> The second part of the exercises (for list, set, dict, and functions) are taken from [This Colab notebook by Rian Orsinger](https://colab.research.google.com/github/ryanorsinger/101-exercises/blob/main/101-exercises.ipynb#scrollTo=maRyeWrzNtTh). "
   ]
  },
  {
   "cell_type": "markdown",
   "id": "71610685",
   "metadata": {},
   "source": [
    "Some exercises now:"
   ]
  },
  {
   "cell_type": "code",
   "execution_count": 83,
   "id": "51fc2352",
   "metadata": {},
   "outputs": [
    {
     "ename": "AssertionError",
     "evalue": "Ensure the variable contains all the strings in the right order",
     "output_type": "error",
     "traceback": [
      "\u001b[31m---------------------------------------------------------------------------\u001b[39m",
      "\u001b[31mAssertionError\u001b[39m                            Traceback (most recent call last)",
      "\u001b[36mCell\u001b[39m\u001b[36m \u001b[39m\u001b[32mIn[83]\u001b[39m\u001b[32m, line 7\u001b[39m\n\u001b[32m      3\u001b[39m fruits = [\u001b[33m\"\u001b[39m\u001b[33mmango\u001b[39m\u001b[33m\"\u001b[39m, \u001b[33m\"\u001b[39m\u001b[33mbanana\u001b[39m\u001b[33m\"\u001b[39m, \u001b[33m\"\u001b[39m\u001b[33mguava\u001b[39m\u001b[33m\"\u001b[39m, \u001b[33m\"\u001b[39m\u001b[33mkiwi\u001b[39m\u001b[33m\"\u001b[39m, \u001b[33m\"\u001b[39m\u001b[33mstrawberry\u001b[39m\u001b[33m\"\u001b[39m]\n\u001b[32m      5\u001b[39m  \u001b[38;5;66;03m# Write your code here, then run the cell.\u001b[39;00m\n\u001b[32m----> \u001b[39m\u001b[32m7\u001b[39m \u001b[38;5;28;01massert\u001b[39;00m fruits == [\u001b[33m\"\u001b[39m\u001b[33mmango\u001b[39m\u001b[33m\"\u001b[39m, \u001b[33m\"\u001b[39m\u001b[33mbanana\u001b[39m\u001b[33m\"\u001b[39m, \u001b[33m\"\u001b[39m\u001b[33mguava\u001b[39m\u001b[33m\"\u001b[39m, \u001b[33m\"\u001b[39m\u001b[33mkiwi\u001b[39m\u001b[33m\"\u001b[39m, \u001b[33m\"\u001b[39m\u001b[33mstrawberry\u001b[39m\u001b[33m\"\u001b[39m, \u001b[33m\"\u001b[39m\u001b[33mtomato\u001b[39m\u001b[33m\"\u001b[39m], \u001b[33m\"\u001b[39m\u001b[33mEnsure the variable contains all the strings in the right order\u001b[39m\u001b[33m\"\u001b[39m\n\u001b[32m      8\u001b[39m \u001b[38;5;28mprint\u001b[39m(\u001b[33m\"\u001b[39m\u001b[33mExercise 8 is correct\u001b[39m\u001b[33m\"\u001b[39m)\n",
      "\u001b[31mAssertionError\u001b[39m: Ensure the variable contains all the strings in the right order"
     ]
    }
   ],
   "source": [
    "# Exercise 8\n",
    "# Given the following assigment of the list of fruits, add \"tomato\" to the end of the list. \n",
    "fruits = [\"mango\", \"banana\", \"guava\", \"kiwi\", \"strawberry\"]\n",
    "\n",
    " # Write your code here, then run the cell.\n",
    " \n",
    "assert fruits == [\"mango\", \"banana\", \"guava\", \"kiwi\", \"strawberry\", \"tomato\"], \"Ensure the variable contains all the strings in the right order\"\n",
    "print(\"Exercise 8 is correct\")"
   ]
  },
  {
   "cell_type": "code",
   "execution_count": null,
   "id": "214fbb2a",
   "metadata": {},
   "outputs": [],
   "source": [
    "# Exercise 9\n",
    "# Given the following assignment of the vegetables list, add \"tomato\" to the end of the list.\n",
    "vegetables = [\"eggplant\", \"broccoli\", \"carrot\", \"cauliflower\", \"zucchini\"]\n",
    "\n",
    "# your code\n",
    "\n",
    "assert vegetables == [\"eggplant\", \"broccoli\", \"carrot\", \"cauliflower\", \"zucchini\", \"tomato\"], \"Ensure the variable contains all the strings in the provided order\"\n",
    "print(\"Exercise 2 is correct\")"
   ]
  },
  {
   "cell_type": "code",
   "execution_count": null,
   "id": "6a17ad3d",
   "metadata": {},
   "outputs": [],
   "source": [
    "# Exercise 10\n",
    "# Sort the vegetables in alphabetical order\n",
    "\n",
    "# your code\n",
    "\n",
    "assert vegetables == ['broccoli', 'carrot', 'cauliflower', 'eggplant', 'tomato', 'zucchini']\n",
    "print(\"Exercise 10 is correct.\")"
   ]
  },
  {
   "cell_type": "code",
   "execution_count": null,
   "id": "1434bd93",
   "metadata": {},
   "outputs": [],
   "source": [
    "# Exercise 11\n",
    "# Write the code necessary to sort the fruits in reverse alphabetical order\n",
    "# Hint: you can reverse the list and then sort it!\n",
    "\n",
    "# your code\n",
    "\n",
    "assert fruits == ['tomato', 'strawberry', 'mango', 'kiwi', 'guava', 'banana']\n",
    "print(\"Exercise 11 is correct.\")"
   ]
  },
  {
   "cell_type": "code",
   "execution_count": null,
   "id": "503a2e5c",
   "metadata": {},
   "outputs": [],
   "source": [
    "# Exercise 12\n",
    "# Write the code necessary to produce a single list that holds all fruits then all vegetables in the order as they were sorted above.\n",
    "fruits_and_veggies = # your code\n",
    "\n",
    "assert fruits_and_veggies == ['tomato', 'strawberry', 'mango', 'kiwi', 'guava', 'banana', 'broccoli', 'carrot', 'cauliflower', 'eggplant', 'tomato', 'zucchini']\n",
    "print(\"Exercise 6 is correct\")\n"
   ]
  },
  {
   "cell_type": "markdown",
   "id": "c131c668",
   "metadata": {},
   "source": [
    "### 2.2 Tuple"
   ]
  },
  {
   "cell_type": "code",
   "execution_count": null,
   "id": "ea4c8b79",
   "metadata": {},
   "outputs": [
    {
     "name": "stdout",
     "output_type": "stream",
     "text": [
      "(10, 20, 30, 40, 50)\n"
     ]
    }
   ],
   "source": [
    "# Initialize a tuple\n",
    "my_tuple = (10, 20, 30, 40, 50)\n",
    "print(my_tuple)"
   ]
  },
  {
   "cell_type": "code",
   "execution_count": null,
   "id": "76c3fd4d",
   "metadata": {},
   "outputs": [
    {
     "name": "stdout",
     "output_type": "stream",
     "text": [
      "10\n",
      "(20, 30)\n"
     ]
    }
   ],
   "source": [
    "# Indexing and slicing (same as in lists)\n",
    "\n",
    "print(my_tuple[0])\n",
    "print(my_tuple[1:3])"
   ]
  },
  {
   "cell_type": "markdown",
   "id": "26dcb400",
   "metadata": {},
   "source": [
    "Some built-in operations (same as in lists):"
   ]
  },
  {
   "cell_type": "code",
   "execution_count": null,
   "id": "a9c8fcae",
   "metadata": {},
   "outputs": [
    {
     "name": "stdout",
     "output_type": "stream",
     "text": [
      "5\n",
      "50\n",
      "10\n",
      "150\n",
      "True\n"
     ]
    }
   ],
   "source": [
    "print(len(my_tuple))      # Number of elements\n",
    "print(max(my_tuple))      # Maximum value\n",
    "print(min(my_tuple))      # Minimum value\n",
    "print(sum(my_tuple))      # Sum of elements\n",
    "print(10 in my_tuple)     # Check if 10 exists"
   ]
  },
  {
   "cell_type": "markdown",
   "id": "eb9aa646",
   "metadata": {},
   "source": [
    "**Iterate** through a tuple (same as in lists)."
   ]
  },
  {
   "cell_type": "code",
   "execution_count": null,
   "id": "cdbf1710",
   "metadata": {},
   "outputs": [
    {
     "name": "stdout",
     "output_type": "stream",
     "text": [
      "10\n",
      "20\n",
      "30\n",
      "40\n",
      "50\n",
      "The element at position 0 is 10\n",
      "The element at position 1 is 20\n",
      "The element at position 2 is 30\n",
      "The element at position 3 is 40\n",
      "The element at position 4 is 50\n"
     ]
    }
   ],
   "source": [
    "# Iterating (same as in lists)\n",
    "for item in my_tuple:\n",
    "    print(item)\n",
    "\n",
    "for id in range(len(my_tuple)):\n",
    "    print(f\"The element at position {id} is {my_tuple[id]}\")"
   ]
  },
  {
   "cell_type": "markdown",
   "id": "fea8f240",
   "metadata": {},
   "source": [
    "### 2.3 Sets (`set`)"
   ]
  },
  {
   "cell_type": "markdown",
   "id": "f60815fc",
   "metadata": {},
   "source": [
    "> Reminder: Sets are **unordered**, so you cannot index or slice."
   ]
  },
  {
   "cell_type": "code",
   "execution_count": 84,
   "id": "c7e7afc6",
   "metadata": {},
   "outputs": [
    {
     "name": "stdout",
     "output_type": "stream",
     "text": [
      "{18, 12, 5, 7}\n",
      "set()\n"
     ]
    }
   ],
   "source": [
    "my_set = {5, 12, 7, 18}  # unordered collection\n",
    "empty_set = set()         # empty set: You can initialize and empty set and later add elements\n",
    "\n",
    "print(my_set)\n",
    "print(empty_set)"
   ]
  },
  {
   "cell_type": "code",
   "execution_count": 85,
   "id": "c474fd51",
   "metadata": {},
   "outputs": [
    {
     "name": "stdout",
     "output_type": "stream",
     "text": [
      "18\n",
      "12\n",
      "5\n",
      "7\n"
     ]
    }
   ],
   "source": [
    "# Access items (no indexing or slicing!)\n",
    "\n",
    "for item in my_set:\n",
    "    print(item)"
   ]
  },
  {
   "cell_type": "code",
   "execution_count": 86,
   "id": "9bf34de2",
   "metadata": {},
   "outputs": [
    {
     "name": "stdout",
     "output_type": "stream",
     "text": [
      "After adding elements: {5, 7, 12, 18, 20, 25, 30}\n"
     ]
    }
   ],
   "source": [
    "# Adding elements\n",
    "my_set.add(20)                  # Add a single element\n",
    "my_set.update([25, 30])         # Add multiple elements\n",
    "print(\"After adding elements:\", my_set)"
   ]
  },
  {
   "cell_type": "code",
   "execution_count": null,
   "id": "d6b206f8",
   "metadata": {},
   "outputs": [
    {
     "name": "stdout",
     "output_type": "stream",
     "text": [
      "Removed element with pop(): 5\n",
      "Set after removals: {7, 18, 20, 25, 30}\n"
     ]
    }
   ],
   "source": [
    "# Removing elements\n",
    "my_set.remove(12)               # Remove specific element (error if not found)\n",
    "my_set.discard(100)             # Remove element if exists (no error if not)\n",
    "\n",
    "removed_element = my_set.pop()  # Remove and return an arbitrary element\n",
    "\n",
    "print(\"Removed element with pop():\", removed_element)\n",
    "print(\"Set after removals:\", my_set)"
   ]
  },
  {
   "cell_type": "markdown",
   "id": "a8290257",
   "metadata": {},
   "source": [
    "You can try out the basic operations that we saw for lists and tuples, like `len` or `sum`. Here are more specific **set operations**:"
   ]
  },
  {
   "cell_type": "code",
   "execution_count": 88,
   "id": "493e747a",
   "metadata": {},
   "outputs": [
    {
     "name": "stdout",
     "output_type": "stream",
     "text": [
      "Union: {1, 2, 3, 4, 5}\n",
      "Intersection: {3}\n",
      "Difference : {1, 2}\n",
      "Symmetric Difference: {1, 2, 4, 5}\n"
     ]
    }
   ],
   "source": [
    "set_a = {1, 2, 3}\n",
    "set_b = {3, 4, 5}\n",
    "\n",
    "# Union: all elements from both sets\n",
    "union_set = set_a | set_b\n",
    "print(\"Union:\", union_set) \n",
    "\n",
    "# Intersection: elements common to both sets\n",
    "intersection_set = set_a & set_b\n",
    "print(\"Intersection:\", intersection_set)  \n",
    "\n",
    "# Difference: elements in set_a but not in set_b\n",
    "difference_set = set_a - set_b\n",
    "print(\"Difference :\", difference_set) \n",
    "\n",
    "# Symmetric difference: elements in either set_a or set_b but not both\n",
    "sym_diff_set = set_a ^ set_b\n",
    "print(\"Symmetric Difference:\", sym_diff_set)  "
   ]
  },
  {
   "cell_type": "markdown",
   "id": "042ee37c",
   "metadata": {},
   "source": [
    "##### Exercises"
   ]
  },
  {
   "cell_type": "code",
   "execution_count": null,
   "id": "0083a92a",
   "metadata": {},
   "outputs": [],
   "source": [
    "# Exercise 13\n",
    "set_n = {1, 2, 3, 4, 5}\n",
    "set_m = {3, 9, 46}\n",
    "\n",
    "# print the union of the two sets"
   ]
  },
  {
   "cell_type": "code",
   "execution_count": null,
   "id": "029fd46d",
   "metadata": {},
   "outputs": [],
   "source": [
    "# Exercise 14\n",
    "\n",
    "# print the intersection of set a and set b"
   ]
  },
  {
   "cell_type": "code",
   "execution_count": null,
   "id": "1a17c0c3",
   "metadata": {},
   "outputs": [],
   "source": [
    "# Exercise 15\n",
    "# Remove all duplicates from a list\n",
    "# Hint: to do so, you can simply convert the list to a set. You can use the set() operation to do so."
   ]
  },
  {
   "cell_type": "markdown",
   "id": "a18e0882",
   "metadata": {},
   "source": [
    "### 2.4 Dictionaries (`dict`)"
   ]
  },
  {
   "cell_type": "markdown",
   "id": "25daead8",
   "metadata": {},
   "source": [
    "Dictionaries hold **key-value pairs**."
   ]
  },
  {
   "cell_type": "code",
   "execution_count": 105,
   "id": "8ace08ca",
   "metadata": {},
   "outputs": [],
   "source": [
    "# Initialize a dictionary\n",
    "tukey_paper = {\n",
    "    \"title\": \"The Future of Data Analysis\",\n",
    "    \"author\": \"John W. Tukey\",\n",
    "    \"link\": \"https://projecteuclid.org/euclid.aoms/1177704711\",\n",
    "    \"year_published\": 1962\n",
    "}\n",
    "\n",
    "thomas_paper = {\n",
    "    \"title\": \"A mathematical model of glutathione metabolism\",\n",
    "    \"author\": \"Rachel Thomas\",\n",
    "    \"link\": \"https://www.ncbi.nlm.nih.gov/pubmed/18442411\",\n",
    "}"
   ]
  },
  {
   "cell_type": "code",
   "execution_count": 106,
   "id": "e710dab4",
   "metadata": {},
   "outputs": [
    {
     "name": "stdout",
     "output_type": "stream",
     "text": [
      "A mathematical model of glutathione metabolism\n",
      "A mathematical model of glutathione metabolism\n"
     ]
    }
   ],
   "source": [
    "# Access values\n",
    "print(thomas_paper[\"title\"])\n",
    "print(thomas_paper.get(\"title\"))"
   ]
  },
  {
   "cell_type": "code",
   "execution_count": 112,
   "id": "6d8f0637",
   "metadata": {},
   "outputs": [
    {
     "name": "stdout",
     "output_type": "stream",
     "text": [
      "dict_keys(['title', 'author', 'link', 'year_published'])\n",
      "dict_values(['A mathematical model of glutathione metabolism', 'Rachel Thomas', 'https://www.ncbi.nlm.nih.gov/pubmed/18442411', 2008])\n",
      "dict_items([('title', 'A mathematical model of glutathione metabolism'), ('author', 'Rachel Thomas'), ('link', 'https://www.ncbi.nlm.nih.gov/pubmed/18442411'), ('year_published', 2008)])\n"
     ]
    }
   ],
   "source": [
    "# Access all items (key or values)\n",
    "\n",
    "print(thomas_paper.keys())\n",
    "print(thomas_paper.values())\n",
    "print(thomas_paper.items())  "
   ]
  },
  {
   "cell_type": "code",
   "execution_count": 110,
   "id": "c237992f",
   "metadata": {},
   "outputs": [
    {
     "name": "stdout",
     "output_type": "stream",
     "text": [
      "{'title': 'A mathematical model of glutathione metabolism', 'author': 'Rachel Thomas', 'link': 'https://www.ncbi.nlm.nih.gov/pubmed/18442411', 'year_published': 2008, 'hello_students': 'hi'}\n",
      "{'title': 'The Future of Data Analysis', 'author': 'John W. Tukey', 'link': 'https://projecteuclid.org/euclid.aoms/1177704711', 'year_published': 1962}\n"
     ]
    }
   ],
   "source": [
    "# Add or update values\n",
    "thomas_paper[\"hello_students\"] = \"hi\"       # update existing\n",
    "thomas_paper[\"year_published\"] = 2008   # add new key\n",
    "\n",
    "print(thomas_paper)\n",
    "print(tukey_paper)"
   ]
  },
  {
   "cell_type": "code",
   "execution_count": 111,
   "id": "a957f656",
   "metadata": {},
   "outputs": [
    {
     "name": "stdout",
     "output_type": "stream",
     "text": [
      "{'title': 'A mathematical model of glutathione metabolism', 'author': 'Rachel Thomas', 'link': 'https://www.ncbi.nlm.nih.gov/pubmed/18442411', 'year_published': 2008}\n"
     ]
    }
   ],
   "source": [
    "thomas_paper.pop(\"hello_students\")   # remove by key\n",
    "print(thomas_paper)"
   ]
  },
  {
   "cell_type": "code",
   "execution_count": 114,
   "id": "d3ac9c74",
   "metadata": {},
   "outputs": [
    {
     "name": "stdout",
     "output_type": "stream",
     "text": [
      "title A mathematical model of glutathione metabolism\n",
      "author Rachel Thomas\n",
      "link https://www.ncbi.nlm.nih.gov/pubmed/18442411\n",
      "year_published 2008\n"
     ]
    }
   ],
   "source": [
    "# Loop through a dictionary\n",
    "for key, value in thomas_paper.items():\n",
    "    print(key, value)\n"
   ]
  },
  {
   "cell_type": "markdown",
   "id": "e406189c",
   "metadata": {},
   "source": [
    "##### Exercises"
   ]
  },
  {
   "cell_type": "code",
   "execution_count": null,
   "id": "e0c99487",
   "metadata": {},
   "outputs": [],
   "source": [
    "# Exercise 15\n",
    "# Write a function named get_paper_title that takes in a dictionary and returns the title property\n",
    "\n",
    "assert get_paper_title(tukey_paper) == \"The Future of Data Analysis\"\n",
    "assert get_paper_title(thomas_paper) == \"A mathematical model of glutathione metabolism\"\n",
    "print(\"Exercise 15 is correct.\")"
   ]
  },
  {
   "cell_type": "code",
   "execution_count": null,
   "id": "f8422989",
   "metadata": {},
   "outputs": [],
   "source": [
    "\n",
    "# Exercise 16\n",
    "# Write a function named get_year_published that takes in a dictionary and returns the value behind the \"year_published\" key.\n",
    "\n",
    "assert get_year_published(tukey_paper) == 1962\n",
    "assert get_year_published(thomas_paper) == 2008\n",
    "print(\"Exercise 16 is correct.\")"
   ]
  },
  {
   "cell_type": "code",
   "execution_count": null,
   "id": "659039df",
   "metadata": {},
   "outputs": [],
   "source": [
    "# Run this code to create data for the next two questions\n",
    "book = {\n",
    "    \"title\": \"Genetic Algorithms and Machine Learning for Programmers\",\n",
    "    \"price\": 36.99,\n",
    "    \"author\": \"Frances Buontempo\"\n",
    "}"
   ]
  },
  {
   "cell_type": "code",
   "execution_count": null,
   "id": "a999e7d8",
   "metadata": {},
   "outputs": [],
   "source": [
    "# Exercise 17\n",
    "# Write a function named get_price that takes in a dictionary and returns the price\n",
    "\n",
    "assert get_price(book) == 36.99\n",
    "print(\"Exercise 17 is complete.\")"
   ]
  },
  {
   "cell_type": "code",
   "execution_count": null,
   "id": "c3c7f72e",
   "metadata": {},
   "outputs": [],
   "source": [
    "# Exercise 18\n",
    "# Write a function named get_book_author that takes in a dictionary (the above declared book variable) and returns the author's name\n",
    "\n",
    "\n",
    "assert get_book_author(book) == \"Frances Buontempo\"\n",
    "print(\"Exercise 18 is complete.\")"
   ]
  }
 ],
 "metadata": {
  "kernelspec": {
   "display_name": "transf_env",
   "language": "python",
   "name": "python3"
  },
  "language_info": {
   "codemirror_mode": {
    "name": "ipython",
    "version": 3
   },
   "file_extension": ".py",
   "mimetype": "text/x-python",
   "name": "python",
   "nbconvert_exporter": "python",
   "pygments_lexer": "ipython3",
   "version": "3.12.9"
  }
 },
 "nbformat": 4,
 "nbformat_minor": 5
}
